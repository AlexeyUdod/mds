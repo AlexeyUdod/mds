{
  "nbformat": 4,
  "nbformat_minor": 0,
  "metadata": {
    "kernelspec": {
      "display_name": "Python 3",
      "language": "python",
      "name": "python3"
    },
    "language_info": {
      "codemirror_mode": {
        "name": "ipython",
        "version": 3
      },
      "file_extension": ".py",
      "mimetype": "text/x-python",
      "name": "python",
      "nbconvert_exporter": "python",
      "pygments_lexer": "ipython3",
      "version": "3.7.5"
    },
    "colab": {
      "name": "mds_06_hw.ipynb",
      "provenance": [],
      "collapsed_sections": [],
      "include_colab_link": true
    }
  },
  "cells": [
    {
      "cell_type": "markdown",
      "metadata": {
        "id": "view-in-github",
        "colab_type": "text"
      },
      "source": [
        "<a href=\"https://colab.research.google.com/github/AlexeyUdod/mds/blob/master/mds_06_hw.ipynb\" target=\"_parent\"><img src=\"https://colab.research.google.com/assets/colab-badge.svg\" alt=\"Open In Colab\"/></a>"
      ]
    },
    {
      "cell_type": "markdown",
      "metadata": {
        "id": "QcVM0JdXvzrh",
        "colab_type": "text"
      },
      "source": [
        "### Задание\n",
        "\n",
        "При фиксированном seed=42 поразбирайтесь и поэкспериментируйте с параметрами алгоритма дифференциальной эволюции:\n",
        "strategy, maxiter, popsize, tol, mutation, recombination и updating.\n",
        "\n",
        "Постройте графики количества итераций оптимизации функции ackley от значения параметра.\n",
        "\n",
        "#### Допзадание\n",
        "\n",
        "Найти множество параметров (strategy=..., maxiter=..., ..., updating=...), которые требуют минимального количества итераций."
      ]
    },
    {
      "cell_type": "code",
      "metadata": {
        "id": "WtMtQev4vzri",
        "colab_type": "code",
        "colab": {}
      },
      "source": [
        "import numpy as np\n",
        "from scipy.optimize import differential_evolution\n",
        "import pandas as pd\n",
        "import seaborn as sns\n",
        "import matplotlib.pyplot as plt\n"
      ],
      "execution_count": 0,
      "outputs": []
    },
    {
      "cell_type": "code",
      "metadata": {
        "id": "Knzi-dj_BVd-",
        "colab_type": "code",
        "colab": {}
      },
      "source": [
        "strategy_list = "
      ],
      "execution_count": 0,
      "outputs": []
    },
    {
      "cell_type": "code",
      "metadata": {
        "id": "bhsezaA6vzrm",
        "colab_type": "code",
        "colab": {}
      },
      "source": [
        "def ackley(x):\n",
        "    arg1 = -0.2 * np.sqrt(0.5 * (x[0] ** 2 + x[1] ** 2))\n",
        "    arg2 = 0.5 * (np.cos(2. * np.pi * x[0]) + np.cos(2. * np.pi * x[1]))\n",
        "    return -20. * np.exp(arg1) - np.exp(arg2) + 20. + np.e\n",
        "\n",
        "bounds = [(-10, 10), (-10, 10)]\n"
      ],
      "execution_count": 0,
      "outputs": []
    },
    {
      "cell_type": "code",
      "metadata": {
        "id": "lv35j3t-vzrq",
        "colab_type": "code",
        "outputId": "e6914d23-62cd-4960-fc9c-f11932344729",
        "colab": {
          "base_uri": "https://localhost:8080/",
          "height": 396
        }
      },
      "source": [
        "results = pd.DataFrame()\n",
        "for strategy in ['best1bin', 'best1exp', 'rand1exp', 'randtobest1exp',\n",
        "                   'currenttobest1exp', 'best2exp', 'rand2exp', 'randtobest1bin', \n",
        "                   'currenttobest1bin', 'best2bin', 'rand2bin','rand1bin']:\n",
        "  result = differential_evolution(ackley, bounds, seed=42, strategy=strategy)\n",
        "  results = results.append({'param':strategy, 'nit':result['nit']}, ignore_index=True)\n",
        "sns.scatterplot(results.param, results.nit, hue=results.nit, palette='Reds_r')\n",
        "plt.xticks(rotation=90)\n",
        "results[results.nit==results.nit.min()]"
      ],
      "execution_count": 21,
      "outputs": [
        {
          "output_type": "execute_result",
          "data": {
            "text/plain": [
              "([0, 1, 2, 3, 4, 5, 6, 7, 8, 9, 10, 11],\n",
              " <a list of 12 Text major ticklabel objects>)"
            ]
          },
          "metadata": {
            "tags": []
          },
          "execution_count": 21
        },
        {
          "output_type": "display_data",
          "data": {
            "image/png": "[encoded data removed]",
            "text/plain": [
              "<Figure size 432x288 with 1 Axes>"
            ]
          },
          "metadata": {
            "tags": [],
            "needs_background": "light"
          }
        }
      ]
    },
    {
      "cell_type": "code",
      "metadata": {
        "id": "9ok9dpJfpDxB",
        "colab_type": "code",
        "colab": {
          "base_uri": "https://localhost:8080/",
          "height": 327
        },
        "outputId": "5a7b7a6f-ba2a-4ca0-f65f-650b1648eb86"
      },
      "source": [
        "results = pd.DataFrame()\n",
        "for param in range(10):\n",
        "  result = differential_evolution(ackley, bounds, seed=42, maxiter=param)\n",
        "  results = results.append({'param':param, 'nit':result['nit']}, ignore_index=True)\n",
        "sns.scatterplot(results.param, results.nit, hue=results.nit, palette='Reds_r')\n",
        "plt.title('nit-maxiter')\n",
        "plt.xticks(rotation=90)\n",
        "results[results.nit==results.nit.min()]"
      ],
      "execution_count": 22,
      "outputs": [
        {
          "output_type": "execute_result",
          "data": {
            "text/plain": [
              "(array([-2.,  0.,  2.,  4.,  6.,  8., 10.]),\n",
              " <a list of 7 Text major ticklabel objects>)"
            ]
          },
          "metadata": {
            "tags": []
          },
          "execution_count": 22
        },
        {
          "output_type": "display_data",
          "data": {
            "image/png": "[encoded data removed]",
            "text/plain": [
              "<Figure size 432x288 with 1 Axes>"
            ]
          },
          "metadata": {
            "tags": [],
            "needs_background": "light"
          }
        }
      ]
    },
    {
      "cell_type": "code",
      "metadata": {
        "id": "1llbWYsPp5Na",
        "colab_type": "code",
        "colab": {
          "base_uri": "https://localhost:8080/",
          "height": 327
        },
        "outputId": "9edf617e-9556-4e44-df3c-785f2c466c11"
      },
      "source": [
        "results = pd.DataFrame()\n",
        "for param in range(10):\n",
        "  result = differential_evolution(ackley, bounds, seed=42, popsize=param)\n",
        "  results = results.append({'param':param, 'nit':result['nit']}, ignore_index=True)\n",
        "sns.scatterplot(results.param, results.nit, hue=results.nit, palette='Reds_r')\n",
        "plt.title('nit-popsize')\n",
        "plt.xticks(rotation=90)\n",
        "results[results.nit==results.nit.min()]"
      ],
      "execution_count": 24,
      "outputs": [
        {
          "output_type": "execute_result",
          "data": {
            "text/plain": [
              "(array([-2.,  0.,  2.,  4.,  6.,  8., 10.]),\n",
              " <a list of 7 Text major ticklabel objects>)"
            ]
          },
          "metadata": {
            "tags": []
          },
          "execution_count": 24
        },
        {
          "output_type": "display_data",
          "data": {
            "image/png": "[encoded data removed]",
            "text/plain": [
              "<Figure size 432x288 with 1 Axes>"
            ]
          },
          "metadata": {
            "tags": [],
            "needs_background": "light"
          }
        }
      ]
    },
    {
      "cell_type": "code",
      "metadata": {
        "id": "X89ejqjoqLRE",
        "colab_type": "code",
        "colab": {
          "base_uri": "https://localhost:8080/",
          "height": 336
        },
        "outputId": "d485317e-9ee1-4a64-cfaa-d8789edeb23c"
      },
      "source": [
        "results = pd.DataFrame()\n",
        "for param in [x/10 for x in range(10)]:\n",
        "  result = differential_evolution(ackley, bounds, seed=42, tol=param)\n",
        "  results = results.append({'param':param, 'nit':result['nit']}, ignore_index=True)\n",
        "sns.scatterplot(results.param, results.nit, hue=results.nit, palette='Reds_r')\n",
        "plt.title('tol')\n",
        "plt.xticks(rotation=90)\n",
        "results[results.nit==results.nit.min()]"
      ],
      "execution_count": 26,
      "outputs": [
        {
          "output_type": "execute_result",
          "data": {
            "text/plain": [
              "(array([-0.2,  0. ,  0.2,  0.4,  0.6,  0.8,  1. ]),\n",
              " <a list of 7 Text major ticklabel objects>)"
            ]
          },
          "metadata": {
            "tags": []
          },
          "execution_count": 26
        },
        {
          "output_type": "display_data",
          "data": {
            "image/png": "[encoded data removed]",
            "text/plain": [
              "<Figure size 432x288 with 1 Axes>"
            ]
          },
          "metadata": {
            "tags": [],
            "needs_background": "light"
          }
        }
      ]
    },
    {
      "cell_type": "code",
      "metadata": {
        "id": "Kbld-80Fquc1",
        "colab_type": "code",
        "colab": {
          "base_uri": "https://localhost:8080/",
          "height": 343
        },
        "outputId": "3d092d6a-a038-4719-b76b-41872a1fe736"
      },
      "source": [
        "results = pd.DataFrame()\n",
        "for param in [x/10 for x in range(20)]:\n",
        "  result = differential_evolution(ackley, bounds, seed=42, mutation=param)\n",
        "  results = results.append({'param':param, 'nit':result['nit']}, ignore_index=True)\n",
        "sns.scatterplot(results.param, results.nit, hue=results.nit, palette='Reds_r')\n",
        "plt.title('mutation')\n",
        "plt.xticks(rotation=90)\n",
        "results[results.nit==results.nit.min()]"
      ],
      "execution_count": 27,
      "outputs": [
        {
          "output_type": "execute_result",
          "data": {
            "text/plain": [
              "(array([-0.25,  0.  ,  0.25,  0.5 ,  0.75,  1.  ,  1.25,  1.5 ,  1.75,\n",
              "         2.  ]), <a list of 10 Text major ticklabel objects>)"
            ]
          },
          "metadata": {
            "tags": []
          },
          "execution_count": 27
        },
        {
          "output_type": "display_data",
          "data": {
            "image/png": "[encoded data removed]",
            "text/plain": [
              "<Figure size 432x288 with 1 Axes>"
            ]
          },
          "metadata": {
            "tags": [],
            "needs_background": "light"
          }
        }
      ]
    },
    {
      "cell_type": "code",
      "metadata": {
        "id": "Io5vvwn-rH4B",
        "colab_type": "code",
        "colab": {
          "base_uri": "https://localhost:8080/",
          "height": 336
        },
        "outputId": "2c7d8084-a5ac-4bce-edb3-cdda64ed8698"
      },
      "source": [
        "results = pd.DataFrame()\n",
        "for param in [x/10 for x in range(10)]:\n",
        "  result = differential_evolution(ackley, bounds, seed=42, recombination=param)\n",
        "  results = results.append({'param':param, 'nit':result['nit']}, ignore_index=True)\n",
        "sns.scatterplot(results.param, results.nit, hue=results.nit, palette='Reds_r')\n",
        "plt.title('recombination')\n",
        "plt.xticks(rotation=90)\n",
        "results[results.nit==results.nit.min()]"
      ],
      "execution_count": 28,
      "outputs": [
        {
          "output_type": "execute_result",
          "data": {
            "text/plain": [
              "(array([-0.2,  0. ,  0.2,  0.4,  0.6,  0.8,  1. ]),\n",
              " <a list of 7 Text major ticklabel objects>)"
            ]
          },
          "metadata": {
            "tags": []
          },
          "execution_count": 28
        },
        {
          "output_type": "display_data",
          "data": {
            "image/png": "[encoded data removed]",
            "text/plain": [
              "<Figure size 432x288 with 1 Axes>"
            ]
          },
          "metadata": {
            "tags": [],
            "needs_background": "light"
          }
        }
      ]
    },
    {
      "cell_type": "code",
      "metadata": {
        "id": "6cttlRA4rb5U",
        "colab_type": "code",
        "colab": {
          "base_uri": "https://localhost:8080/",
          "height": 357
        },
        "outputId": "69e7b7d2-8e10-4be2-f73e-9b0979043ce5"
      },
      "source": [
        "results = pd.DataFrame()\n",
        "for param in ['immediate', 'deferred']:\n",
        "  result = differential_evolution(ackley, bounds, seed=42, updating=param)\n",
        "  results = results.append({'param':param, 'nit':result['nit']}, ignore_index=True)\n",
        "sns.scatterplot(results.param, results.nit, hue=results.nit, palette='Reds_r')\n",
        "plt.title('updating')\n",
        "plt.xticks(rotation=90)\n",
        "results[results.nit==results.nit.min()]"
      ],
      "execution_count": 29,
      "outputs": [
        {
          "output_type": "execute_result",
          "data": {
            "text/plain": [
              "([0, 1], <a list of 2 Text major ticklabel objects>)"
            ]
          },
          "metadata": {
            "tags": []
          },
          "execution_count": 29
        },
        {
          "output_type": "display_data",
          "data": {
            "image/png": "[encoded data removed]",
            "text/plain": [
              "<Figure size 432x288 with 1 Axes>"
            ]
          },
          "metadata": {
            "tags": [],
            "needs_background": "light"
          }
        }
      ]
    },
    {
      "cell_type": "code",
      "metadata": {
        "id": "KLdl01pPr6zy",
        "colab_type": "code",
        "colab": {
          "base_uri": "https://localhost:8080/",
          "height": 122
        },
        "outputId": "9a362c87-8e3a-4d85-f99b-2078d93d880a"
      },
      "source": [
        "result = differential_evolution(ackley, bounds, seed=42,\n",
        "                                maxiter=1,\n",
        "                                popsize=2,\n",
        "                                tol=0.4,\n",
        "                                mutation=0,\n",
        "                                recombination=0.8,\n",
        "                                updating='immediate')\n",
        "result"
      ],
      "execution_count": 49,
      "outputs": [
        {
          "output_type": "execute_result",
          "data": {
            "text/plain": [
              "     fun: 7.038850555686631\n",
              " message: 'Optimization terminated successfully.'\n",
              "    nfev: 268\n",
              "     nit: 1\n",
              " success: True\n",
              "       x: array([-1.37592544, -1.37602192])"
            ]
          },
          "metadata": {
            "tags": []
          },
          "execution_count": 49
        }
      ]
    },
    {
      "cell_type": "markdown",
      "metadata": {
        "id": "Ia0gvFw0u7Sv",
        "colab_type": "text"
      },
      "source": [
        "Формально, согласно заданию, этот вариант является самым быстрым (всего одна иттерация), но его точность очень невысока."
      ]
    },
    {
      "cell_type": "code",
      "metadata": {
        "id": "55s3DLCUu6L6",
        "colab_type": "code",
        "colab": {}
      },
      "source": [
        ""
      ],
      "execution_count": 0,
      "outputs": []
    },
    {
      "cell_type": "code",
      "metadata": {
        "id": "PAH3-Zh_xMtG",
        "colab_type": "code",
        "colab": {}
      },
      "source": [
        "param_list = {'strategy_list':['best1bin', 'best1exp', 'rand1exp', 'randtobest1exp',\n",
        "                   'currenttobest1exp', 'best2exp', 'rand2exp', 'randtobest1bin', \n",
        "                   'currenttobest1bin', 'best2bin', 'rand2bin','rand1bin'],\n",
        "              'maxiter':range(10), \n",
        "'popsize':range(1,100), 'tol':[x/100 for x in range(100)],\n",
        "'mutation' : [x/100 for x in range(200)],\n",
        "'recombination' : [x/100 for x in range(100)],\n",
        "'updating' : ['immediate', 'deferred']}\n"
      ],
      "execution_count": 0,
      "outputs": []
    },
    {
      "cell_type": "code",
      "metadata": {
        "id": "_r-KdwhdHf56",
        "colab_type": "code",
        "colab": {}
      },
      "source": [
        ""
      ],
      "execution_count": 0,
      "outputs": []
    }
  ]
}