{
  "nbformat": 4,
  "nbformat_minor": 0,
  "metadata": {
    "kernelspec": {
      "display_name": "Python 3",
      "language": "python",
      "name": "python3"
    },
    "language_info": {
      "codemirror_mode": {
        "name": "ipython",
        "version": 3
      },
      "file_extension": ".py",
      "mimetype": "text/x-python",
      "name": "python",
      "nbconvert_exporter": "python",
      "pygments_lexer": "ipython3",
      "version": "3.7.5"
    },
    "colab": {
      "name": "mds_08_hw.ipynb",
      "provenance": [],
      "collapsed_sections": [],
      "include_colab_link": true
    }
  },
  "cells": [
    {
      "cell_type": "markdown",
      "metadata": {
        "id": "view-in-github",
        "colab_type": "text"
      },
      "source": [
        "<a href=\"https://colab.research.google.com/github/AlexeyUdod/mds/blob/master/mds_08_hw.ipynb\" target=\"_parent\"><img src=\"https://colab.research.google.com/assets/colab-badge.svg\" alt=\"Open In Colab\"/></a>"
      ]
    },
    {
      "cell_type": "code",
      "metadata": {
        "id": "mJSheYJokLjo",
        "colab_type": "code",
        "colab": {}
      },
      "source": [
        "import numpy as np\n",
        "import pandas as pd\n",
        "import scipy.stats as sts\n",
        "import matplotlib.pyplot as plt\n"
      ],
      "execution_count": 0,
      "outputs": []
    },
    {
      "cell_type": "markdown",
      "metadata": {
        "id": "9hmSGnUQcNKT",
        "colab_type": "text"
      },
      "source": [
        "### Задание 2"
      ]
    },
    {
      "cell_type": "markdown",
      "metadata": {
        "id": "yJk3i6BucNKU",
        "colab_type": "text"
      },
      "source": [
        "Непрерывная случайная величина задана плотностью распределения:\n",
        "$$ f(\\xi) = C, \\xi \\in [0;5];f(\\xi) = 0, \\xi \\notin [0;5]$$\n",
        "Найдите C, математическое ожидание $\\xi$ а также вероятность попадания $\\xi$ в отрезок $[3.5;7]$, т.е. $P(3.5<\\xi<7)$."
      ]
    },
    {
      "cell_type": "code",
      "metadata": {
        "id": "CXQ2mAGz23Ur",
        "colab_type": "code",
        "outputId": "273bcd97-7c80-4685-c639-cd8e90417481",
        "colab": {
          "base_uri": "https://localhost:8080/",
          "height": 332
        }
      },
      "source": [
        "a = 0\n",
        "b = 5\n",
        "p1 = 3.5\n",
        "p2 = 7\n",
        "x = np.linspace(-1,8,1000)\n",
        "pdf = sts.uniform(0, 5).pdf(x)\n",
        "plt.plot(x, pdf)\n",
        "plt.ylabel('f(x)')\n",
        "plt.xlabel('x')\n",
        "plt.show()\n",
        "С = 1 / (b - a)\n",
        "E = (b + a) / 2\n",
        "P = (b - p1) * C\n",
        "print(f'С равно {C}\\nМат.ожидание {E}\\nВероятность попадания на отрезок {p1, p2} равна {round(P*100, 2)}%')"
      ],
      "execution_count": 0,
      "outputs": [
        {
          "output_type": "display_data",
          "data": {
            "image/png": "[encoded data removed]",
            "text/plain": [
              "<Figure size 432x288 with 1 Axes>"
            ]
          },
          "metadata": {
            "tags": [],
            "needs_background": "light"
          }
        },
        {
          "output_type": "stream",
          "text": [
            "С равно 0.2\n",
            "Мат.ожидание 2.5\n",
            "Вероятность попадания на отрезок (3.5, 7) равна 30.0%\n"
          ],
          "name": "stdout"
        }
      ]
    },
    {
      "cell_type": "markdown",
      "metadata": {
        "id": "tGPIcTNfcNKW",
        "colab_type": "text"
      },
      "source": [
        "### Задание 3\n",
        "Известно, что светофор горит 54 секунды красным, 4 секунды жёлтым и 28 секунд зелёным. Посчитайте, какое количество информации несёт сообщение о цвете светофора в текущий момент. А что будет в случае 28, 28 и 28 секунд для каждого цвета?"
      ]
    },
    {
      "cell_type": "code",
      "metadata": {
        "id": "K_4O63WXc0VX",
        "colab_type": "code",
        "outputId": "1b382e82-6390-4b9a-899f-631db58ee4a3",
        "colab": {
          "base_uri": "https://localhost:8080/",
          "height": 175
        }
      },
      "source": [
        "var = ['red', 'yellow', 'green']\n",
        "val = [54, 4, 28]\n",
        "g = globals() \n",
        "for i in range(len(var)):\n",
        "  g[var[i]] = val[i]\n",
        "  g['P_'+var[i]] = val[i] / sum(val)\n",
        "  g['I_'+var[i]] = -np.log2(g['P_'+var[i]])\n",
        "\n",
        "for i in var:\n",
        "  print(f\"Probability of {i} light is {round(g['P_'+i]*100,2)}%\")\n",
        "  print(f\"Information quantity for {i} light is {round(g['I_'+i],2)} bit\\n\")\n"
      ],
      "execution_count": 0,
      "outputs": [
        {
          "output_type": "stream",
          "text": [
            "Probability of red light is 62.79%\n",
            "Information quantity for red light is 0.67 bit\n",
            "\n",
            "Probability of yellow light is 4.65%\n",
            "Information quantity for yellow light is 4.43 bit\n",
            "\n",
            "Probability of green light is 32.56%\n",
            "Information quantity for green light is 1.62 bit\n",
            "\n"
          ],
          "name": "stdout"
        }
      ]
    },
    {
      "cell_type": "code",
      "metadata": {
        "id": "Hcbu_QcF29Wp",
        "colab_type": "code",
        "outputId": "5b20cb76-fa7a-4a8f-921e-b02222a7e5b8",
        "colab": {
          "base_uri": "https://localhost:8080/",
          "height": 175
        }
      },
      "source": [
        "var = ['red', 'yellow', 'green']\n",
        "val = [28, 28, 28]\n",
        "g = globals()\n",
        "for i in range(len(var)):\n",
        "  g[var[i]] = val[i]\n",
        "  g['P_'+var[i]] = val[i] / sum(val)\n",
        "  g['I_'+var[i]] = -np.log2(g['P_'+var[i]])\n",
        "\n",
        "for i in var:\n",
        "  print(f\"Probability of {i} light is {round(g['P_'+i]*100,2)}%\")\n",
        "  print(f\"Information quantity for {i} light is {round(g['I_'+i],2)} bit\\n\")\n"
      ],
      "execution_count": 0,
      "outputs": [
        {
          "output_type": "stream",
          "text": [
            "Probability of red light is 33.33%\n",
            "Information quantity for red light is 1.58 bit\n",
            "\n",
            "Probability of yellow light is 33.33%\n",
            "Information quantity for yellow light is 1.58 bit\n",
            "\n",
            "Probability of green light is 33.33%\n",
            "Information quantity for green light is 1.58 bit\n",
            "\n"
          ],
          "name": "stdout"
        }
      ]
    }
  ]
}