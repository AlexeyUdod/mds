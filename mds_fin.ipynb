{
  "nbformat": 4,
  "nbformat_minor": 0,
  "metadata": {
    "kernelspec": {
      "display_name": "Python 3",
      "language": "python",
      "name": "python3"
    },
    "language_info": {
      "codemirror_mode": {
        "name": "ipython",
        "version": 3
      },
      "file_extension": ".py",
      "mimetype": "text/x-python",
      "name": "python",
      "nbconvert_exporter": "python",
      "pygments_lexer": "ipython3",
      "version": "3.7.5"
    },
    "colab": {
      "name": "mds_fin.ipynb",
      "provenance": [],
      "collapsed_sections": [],
      "include_colab_link": true
    }
  },
  "cells": [
    {
      "cell_type": "markdown",
      "metadata": {
        "id": "view-in-github",
        "colab_type": "text"
      },
      "source": [
        "<a href=\"https://colab.research.google.com/github/AlexeyUdod/mds/blob/master/mds_fin.ipynb\" target=\"_parent\"><img src=\"https://colab.research.google.com/assets/colab-badge.svg\" alt=\"Open In Colab\"/></a>"
      ]
    },
    {
      "cell_type": "code",
      "metadata": {
        "id": "pxzIx_F64WQB",
        "colab_type": "code",
        "colab": {}
      },
      "source": [
        "import matplotlib.pyplot as plt\n",
        "import numpy as np\n",
        "import pandas as pd\n",
        "from scipy.optimize import minimize\n",
        "from scipy.spatial.distance import cosine as dcos\n",
        "from sympy import *\n",
        "x = Symbol('x')\n",
        "%matplotlib inline"
      ],
      "execution_count": 0,
      "outputs": []
    },
    {
      "cell_type": "markdown",
      "metadata": {
        "id": "1iAvmD0k4WQL",
        "colab_type": "text"
      },
      "source": [
        "### Задание 1"
      ]
    },
    {
      "cell_type": "markdown",
      "metadata": {
        "id": "Lx-GXek24WQM",
        "colab_type": "text"
      },
      "source": [
        "Дана матрица рейтингов фильмов (строки - пользователи (10 человек), столбцы - фильмы (15 фильмов))"
      ]
    },
    {
      "cell_type": "code",
      "metadata": {
        "id": "x7qefIxM4WQN",
        "colab_type": "code",
        "colab": {}
      },
      "source": [
        "raitings = np.array([[ 4,  4,  9,  4,  1,  6, 10,  7,  9,  6,  9,  2,  8,  6,  6],\n",
        "                     [ 9,  2,  5, 10,  7,  8, 10,  5,  6,  2,  1,  6,  8,  9,  7],\n",
        "                     [ 1,  6,  8,  8,  4,  9,  3,  8, 10,  5,  2,  6,  8,  1,  6],\n",
        "                     [ 6,  1,  9,  7,  7,  9,  2,  3,  5,  1,  6,  6,  3,  2,  7],\n",
        "                     [ 3,  7,  3,  5,  7,  9,  9,  6,  2,  9,  1,  2,  8, 10,  6],\n",
        "                     [ 8,  3,  7,  3,  8,  6,  1,  8,  8,  6,  1,  9,  4, 10,  1],\n",
        "                     [ 9,  8,  4,  8,  8, 10,  6,  1,  1,  2,  9,  5,  2,  7,  2],\n",
        "                     [ 4,  1,  6,  4,  3, 10,  4,  4,  2,  8,  7,  9,  3,  8,  3],\n",
        "                     [ 2,  7,  7,  6, 10,  6,  8,  9,  8,  6, 10,  1,  7, 10,  4],\n",
        "                     [ 5, 10,  8,  8,  9,  7,  2,  9,  9, 10,  8,  8,  8,  6, 10]])"
      ],
      "execution_count": 0,
      "outputs": []
    },
    {
      "cell_type": "markdown",
      "metadata": {
        "id": "C_f3ouA24WQS",
        "colab_type": "text"
      },
      "source": [
        "<b> a) </b> Необходимо найти наиболее похожего пользователя по косинусной метрике для каждого из (ответ: 10 пар вида (x, y), где y - наиболее похожий пользователь на пользователя x)."
      ]
    },
    {
      "cell_type": "markdown",
      "metadata": {
        "id": "TYSv6W0E4WQT",
        "colab_type": "text"
      },
      "source": [
        "<b> b) </b>Предположим, вы захотели сжать признаковые описания пользователя с 15 фильмов, до, скажем, 5-ти признаков, как вы это сделаете?"
      ]
    },
    {
      "cell_type": "code",
      "metadata": {
        "id": "Zs0YWKF9EtoH",
        "colab_type": "code",
        "outputId": "2f45aee9-0498-4805-ee63-572ecc9a8d5c",
        "colab": {
          "base_uri": "https://localhost:8080/",
          "height": 358
        }
      },
      "source": [
        "rlen = raitings.shape[0]\n",
        "results = []\n",
        "for i in range(rlen):\n",
        "  results.append([i,0,1])\n",
        "  for i2 in range(rlen):\n",
        "    if i == i2:\n",
        "      continue\n",
        "    dcos_i2 = dcos(raitings[i], raitings[i2])\n",
        "    if dcos_i2 < results[i][2]:\n",
        "      results[i][1] = i2\n",
        "      results[i][2] = dcos_i2\n",
        "rdata = pd.DataFrame(results, columns = ['for user ', 'nearest user', 'with distance'])\n",
        "rdata"
      ],
      "execution_count": 0,
      "outputs": [
        {
          "output_type": "execute_result",
          "data": {
            "text/html": [
              "<div>\n",
              "<style scoped>\n",
              "    .dataframe tbody tr th:only-of-type {\n",
              "        vertical-align: middle;\n",
              "    }\n",
              "\n",
              "    .dataframe tbody tr th {\n",
              "        vertical-align: top;\n",
              "    }\n",
              "\n",
              "    .dataframe thead th {\n",
              "        text-align: right;\n",
              "    }\n",
              "</style>\n",
              "<table border=\"1\" class=\"dataframe\">\n",
              "  <thead>\n",
              "    <tr style=\"text-align: right;\">\n",
              "      <th></th>\n",
              "      <th>for user</th>\n",
              "      <th>nearest user</th>\n",
              "      <th>with distance</th>\n",
              "    </tr>\n",
              "  </thead>\n",
              "  <tbody>\n",
              "    <tr>\n",
              "      <th>0</th>\n",
              "      <td>0</td>\n",
              "      <td>8</td>\n",
              "      <td>0.089340</td>\n",
              "    </tr>\n",
              "    <tr>\n",
              "      <th>1</th>\n",
              "      <td>1</td>\n",
              "      <td>4</td>\n",
              "      <td>0.128619</td>\n",
              "    </tr>\n",
              "    <tr>\n",
              "      <th>2</th>\n",
              "      <td>2</td>\n",
              "      <td>9</td>\n",
              "      <td>0.081269</td>\n",
              "    </tr>\n",
              "    <tr>\n",
              "      <th>3</th>\n",
              "      <td>3</td>\n",
              "      <td>9</td>\n",
              "      <td>0.141131</td>\n",
              "    </tr>\n",
              "    <tr>\n",
              "      <th>4</th>\n",
              "      <td>4</td>\n",
              "      <td>8</td>\n",
              "      <td>0.120515</td>\n",
              "    </tr>\n",
              "    <tr>\n",
              "      <th>5</th>\n",
              "      <td>5</td>\n",
              "      <td>9</td>\n",
              "      <td>0.144851</td>\n",
              "    </tr>\n",
              "    <tr>\n",
              "      <th>6</th>\n",
              "      <td>6</td>\n",
              "      <td>3</td>\n",
              "      <td>0.167258</td>\n",
              "    </tr>\n",
              "    <tr>\n",
              "      <th>7</th>\n",
              "      <td>7</td>\n",
              "      <td>5</td>\n",
              "      <td>0.155483</td>\n",
              "    </tr>\n",
              "    <tr>\n",
              "      <th>8</th>\n",
              "      <td>8</td>\n",
              "      <td>0</td>\n",
              "      <td>0.089340</td>\n",
              "    </tr>\n",
              "    <tr>\n",
              "      <th>9</th>\n",
              "      <td>9</td>\n",
              "      <td>2</td>\n",
              "      <td>0.081269</td>\n",
              "    </tr>\n",
              "  </tbody>\n",
              "</table>\n",
              "</div>"
            ],
            "text/plain": [
              "   for user   nearest user  with distance\n",
              "0          0             8       0.089340\n",
              "1          1             4       0.128619\n",
              "2          2             9       0.081269\n",
              "3          3             9       0.141131\n",
              "4          4             8       0.120515\n",
              "5          5             9       0.144851\n",
              "6          6             3       0.167258\n",
              "7          7             5       0.155483\n",
              "8          8             0       0.089340\n",
              "9          9             2       0.081269"
            ]
          },
          "metadata": {
            "tags": []
          },
          "execution_count": 10
        }
      ]
    },
    {
      "cell_type": "markdown",
      "metadata": {
        "id": "QkyRMTPlTpyt",
        "colab_type": "text"
      },
      "source": [
        "Сжать признаковые описания пользователя можно с помощью SVD"
      ]
    },
    {
      "cell_type": "markdown",
      "metadata": {
        "id": "pqROUwxW4WQT",
        "colab_type": "text"
      },
      "source": [
        "### Задание 2"
      ]
    },
    {
      "cell_type": "markdown",
      "metadata": {
        "id": "Euw7S8ZK4WQU",
        "colab_type": "text"
      },
      "source": [
        "Вычислите производную $tg^2(sin(x) + cos(2x+3))$ в точке $x_0=1$ на python и на бумаге (просто подставить точку в производную и ничего не упрощать)."
      ]
    },
    {
      "cell_type": "code",
      "metadata": {
        "id": "fehOoRLgT1q8",
        "colab_type": "code",
        "outputId": "355a8841-8c1f-43ff-8892-a12f8bc87940",
        "colab": {
          "base_uri": "https://localhost:8080/",
          "height": 34
        }
      },
      "source": [
        "f = (tan(sin(x)+cos(2*x+3)))**2\n",
        "diff(f).subs(x,1)"
      ],
      "execution_count": 0,
      "outputs": [
        {
          "output_type": "execute_result",
          "data": {
            "text/plain": [
              "2*(1 + tan(cos(5) + sin(1))**2)*(cos(1) - 2*sin(5))*tan(cos(5) + sin(1))"
            ]
          },
          "metadata": {
            "tags": []
          },
          "execution_count": 15
        }
      ]
    },
    {
      "cell_type": "markdown",
      "metadata": {
        "id": "UHe0CgeB4WQU",
        "colab_type": "text"
      },
      "source": [
        "### Задание 3"
      ]
    },
    {
      "cell_type": "markdown",
      "metadata": {
        "id": "1AyBGSyN4WQV",
        "colab_type": "text"
      },
      "source": [
        "Дана функция с неизвестными параметрами a и b, вам также известны значения функции fx в точках x. Найдите оптимальные параметры a, b, минимизирующие абсолютную ошибку <b>error</b>"
      ]
    },
    {
      "cell_type": "code",
      "metadata": {
        "id": "ZvlGEEwv4WQW",
        "colab_type": "code",
        "colab": {}
      },
      "source": [
        "def f(x, a, b):\n",
        "    return np.e**a * np.sin(b*x) + x"
      ],
      "execution_count": 0,
      "outputs": []
    },
    {
      "cell_type": "code",
      "metadata": {
        "id": "EDxDneQT4WQZ",
        "colab_type": "code",
        "colab": {}
      },
      "source": [
        "x = np.array([0.        , 0.26315789, 0.52631579, 0.78947368, 1.05263158,\n",
        "              1.31578947, 1.57894737, 1.84210526, 2.10526316, 2.36842105,\n",
        "              2.63157895, 2.89473684, 3.15789474, 3.42105263, 3.68421053,\n",
        "              3.94736842, 4.21052632, 4.47368421, 4.73684211, 5.        ])"
      ],
      "execution_count": 0,
      "outputs": []
    },
    {
      "cell_type": "code",
      "metadata": {
        "id": "PRqrEHAW4WQb",
        "colab_type": "code",
        "colab": {}
      },
      "source": [
        "fx = np.array([  0.        , -12.01819092, -18.90968634, -17.68786571,\n",
        "                -8.7529108 ,   4.27524517,  16.06801336,  21.81250213,\n",
        "                19.22059845,   9.48411207,  -3.22273056, -13.48576488,\n",
        "               -16.91096359, -11.95866834,  -0.58630088,  12.56873816,\n",
        "                22.12489421,  24.20292139,  18.04522521,   6.33211092])"
      ],
      "execution_count": 0,
      "outputs": []
    },
    {
      "cell_type": "code",
      "metadata": {
        "id": "WWwi910p4WQe",
        "colab_type": "code",
        "outputId": "cae9a9c9-0ff3-48b2-f55d-648f4180fe95",
        "colab": {
          "base_uri": "https://localhost:8080/",
          "height": 265
        }
      },
      "source": [
        "plt.plot(x, fx)\n",
        "plt.show()"
      ],
      "execution_count": 11,
      "outputs": [
        {
          "output_type": "display_data",
          "data": {
            "image/png": "[encoded data removed]",
            "text/plain": [
              "<Figure size 432x288 with 1 Axes>"
            ]
          },
          "metadata": {
            "tags": [],
            "needs_background": "light"
          }
        }
      ]
    },
    {
      "cell_type": "code",
      "metadata": {
        "id": "7LIdeUS94WQg",
        "colab_type": "code",
        "colab": {}
      },
      "source": [
        "def error(params):\n",
        "    return np.sum(np.abs(fx - f(x, params[0], params[1])))"
      ],
      "execution_count": 0,
      "outputs": []
    },
    {
      "cell_type": "code",
      "metadata": {
        "id": "_f4kCbaEgO0H",
        "colab_type": "code",
        "outputId": "f2e2ac2d-916e-4127-857e-bc55a3499f15",
        "colab": {
          "base_uri": "https://localhost:8080/",
          "height": 300
        }
      },
      "source": [
        "res = minimize(error, x,  method='nelder-mead')#, options={'xtol': 1e-8, 'disp': True})\n",
        "a = res['x'][1]\n",
        "b = res['x'][2]\n",
        "plt.plot(x, f(x, a, b))\n",
        "plt.show()\n",
        "print(f'a={a}\\nb={b}')"
      ],
      "execution_count": 16,
      "outputs": [
        {
          "output_type": "display_data",
          "data": {
            "image/png": "[encoded data removed]",
            "text/plain": [
              "<Figure size 432x288 with 1 Axes>"
            ]
          },
          "metadata": {
            "tags": [],
            "needs_background": "light"
          }
        },
        {
          "output_type": "stream",
          "text": [
            "a=0.061313034039727515\n",
            "b=-193.83002600599298\n"
          ],
          "name": "stdout"
        }
      ]
    },
    {
      "cell_type": "markdown",
      "metadata": {
        "id": "E11Ap-GL4WQj",
        "colab_type": "text"
      },
      "source": [
        "### Задание 4"
      ]
    },
    {
      "cell_type": "markdown",
      "metadata": {
        "id": "Yvq6GybU4WQj",
        "colab_type": "text"
      },
      "source": [
        "Создайте собственную дискретную случайную величину с 20 значениями. Сгенерируйте 1000 выборок размера 50. Посчитайте среднее для каждой выборки. Постройте гистограмму распределения средних."
      ]
    },
    {
      "cell_type": "code",
      "metadata": {
        "id": "2MSoOKCYwCzO",
        "colab_type": "code",
        "outputId": "3033603f-1eeb-4a2c-b83a-e98c45463605",
        "colab": {
          "base_uri": "https://localhost:8080/",
          "height": 1000
        }
      },
      "source": [
        "elements = np.random.randint(0, 10, 20)\n",
        "probabilities = np.random.random(20)\n",
        "means = np.array([])\n",
        "for i in range(1000):\n",
        "  r = np.mean(np.random.choice(elements, 50, p=probabilities / sum(probabilities)))\n",
        "  means = np.append(means,r)\n",
        "print(means)\n",
        "plt.hist(means, 20, color='Blue')\n",
        "plt.show()"
      ],
      "execution_count": 0,
      "outputs": [
        {
          "output_type": "stream",
          "text": [
            "[5.44 4.92 4.52 4.6  4.6  4.2  4.28 4.26 4.72 4.4  4.34 4.74 4.5  4.74\n",
            " 5.3  4.78 4.16 4.52 4.46 5.36 4.98 4.58 4.16 5.2  4.62 4.34 4.34 4.98\n",
            " 4.68 4.46 5.02 5.1  4.72 4.78 5.1  5.04 5.12 4.5  4.72 4.34 5.72 4.6\n",
            " 4.56 5.04 4.92 4.94 4.02 4.32 5.22 5.06 4.24 4.54 3.98 5.1  4.2  4.86\n",
            " 4.3  5.3  4.08 4.42 5.36 5.02 4.88 4.98 3.98 4.5  4.52 4.96 4.   4.62\n",
            " 4.14 4.72 4.44 4.6  4.46 4.88 5.08 4.62 5.02 4.16 4.06 5.5  3.98 5.3\n",
            " 4.72 5.2  4.88 3.88 4.54 3.76 5.42 4.56 4.8  4.2  4.38 5.36 4.2  4.4\n",
            " 5.16 4.72 4.38 5.02 3.98 4.28 4.7  4.28 4.46 4.68 4.34 5.66 4.48 5.06\n",
            " 5.   3.8  4.78 4.2  4.58 4.16 4.96 4.32 4.76 5.2  3.92 4.72 4.66 4.94\n",
            " 4.44 4.98 4.74 3.66 4.96 5.06 4.42 3.88 4.36 5.16 4.8  5.36 5.32 4.52\n",
            " 4.46 4.08 4.76 5.24 4.12 5.46 4.72 5.2  4.36 4.82 4.82 4.74 4.1  4.92\n",
            " 4.46 4.58 5.14 5.1  4.44 4.18 4.7  5.22 4.74 4.84 5.34 4.24 5.02 4.16\n",
            " 4.02 5.9  3.94 4.7  4.9  4.78 5.02 4.64 4.92 4.26 4.82 4.78 4.5  3.84\n",
            " 4.42 5.28 5.28 4.08 4.94 4.72 4.4  4.36 4.42 4.5  4.76 4.32 4.72 4.68\n",
            " 5.24 4.48 4.84 4.94 4.98 4.74 4.34 4.12 4.64 4.2  4.74 4.54 4.74 4.18\n",
            " 4.74 4.9  4.24 4.42 4.1  4.3  4.7  5.08 4.96 5.14 3.66 4.46 5.   4.72\n",
            " 4.98 4.5  5.04 4.36 5.26 4.7  4.8  4.62 4.74 4.34 4.86 4.54 4.62 4.42\n",
            " 5.02 4.8  4.5  4.56 3.86 4.46 4.54 4.88 4.44 5.22 4.52 4.22 4.6  5.14\n",
            " 4.7  4.7  5.3  4.54 4.84 4.9  3.86 4.98 4.24 3.98 3.98 4.92 4.34 4.34\n",
            " 4.34 4.58 4.64 4.8  4.74 3.88 5.18 4.54 3.78 4.94 5.16 5.22 4.2  4.16\n",
            " 4.82 4.28 4.84 4.7  4.18 4.88 5.32 4.8  4.56 4.8  4.48 4.54 4.18 4.86\n",
            " 4.9  5.   5.36 5.12 4.3  4.3  5.12 4.98 4.92 5.06 4.44 4.54 4.62 4.66\n",
            " 4.2  4.28 4.92 4.76 4.9  5.18 4.5  4.82 4.38 4.84 4.46 4.16 4.3  5.22\n",
            " 4.76 4.88 5.22 5.06 4.8  4.4  5.44 4.58 5.18 5.1  4.48 4.74 3.96 4.56\n",
            " 4.36 4.48 4.92 3.94 5.1  4.84 4.88 4.84 5.12 5.3  3.92 4.5  4.7  5.32\n",
            " 4.26 4.9  4.92 4.74 4.16 4.22 4.2  5.36 4.7  4.24 4.1  4.92 4.72 4.52\n",
            " 4.94 4.44 4.7  4.24 4.76 4.5  4.14 4.52 3.86 4.92 4.4  5.14 5.   5.42\n",
            " 5.14 4.24 4.34 4.92 4.16 4.92 5.2  4.74 4.12 4.5  4.18 4.92 4.58 4.82\n",
            " 4.06 5.28 4.84 4.5  5.24 4.14 4.72 4.9  4.36 5.22 5.   4.86 4.48 4.66\n",
            " 5.18 4.76 3.96 4.62 4.68 4.32 4.78 4.24 4.8  4.58 4.46 4.3  4.48 4.96\n",
            " 5.04 3.78 4.28 4.86 3.9  4.62 5.26 4.92 4.4  5.34 5.08 5.16 5.06 5.48\n",
            " 4.96 4.66 5.08 4.58 4.78 4.98 4.32 5.68 4.92 4.38 4.5  4.8  5.02 4.98\n",
            " 4.24 4.78 4.98 4.36 4.26 4.22 4.92 4.28 4.58 5.42 4.88 4.74 4.28 4.04\n",
            " 5.6  4.2  4.58 4.34 4.88 4.92 4.5  4.48 4.3  4.32 4.7  5.22 4.88 4.24\n",
            " 4.34 4.66 4.66 4.94 4.72 4.62 4.92 4.62 4.96 4.36 4.16 4.58 4.56 5.2\n",
            " 4.62 4.96 4.56 4.7  4.2  4.34 4.9  4.66 5.02 5.6  5.36 4.24 4.36 5.06\n",
            " 4.6  4.24 4.88 4.4  4.78 4.84 4.7  4.78 5.12 5.24 4.1  4.62 4.94 4.98\n",
            " 3.94 4.22 4.6  4.5  4.32 4.68 4.78 4.64 5.02 4.5  4.98 4.6  4.78 4.6\n",
            " 4.02 4.6  4.44 4.1  4.18 4.84 4.9  4.28 3.78 4.2  4.58 5.12 4.64 4.28\n",
            " 4.8  4.66 5.28 5.12 5.04 4.54 4.7  4.5  5.46 4.56 5.34 4.54 4.44 4.1\n",
            " 4.5  4.3  4.6  5.34 3.9  4.76 4.14 4.68 4.58 4.68 4.7  4.26 4.66 5.3\n",
            " 4.66 4.94 3.56 4.34 4.06 4.88 4.62 5.1  4.56 3.74 5.06 5.4  4.32 4.16\n",
            " 4.36 4.46 4.46 5.82 4.42 4.12 5.58 5.54 4.6  4.8  4.54 4.28 4.98 4.72\n",
            " 4.02 4.72 5.26 4.3  5.44 4.94 4.98 4.56 5.24 4.44 5.16 4.36 4.66 4.52\n",
            " 5.06 4.52 5.1  3.8  5.02 5.04 5.1  5.36 4.84 4.12 3.88 5.14 4.14 4.44\n",
            " 4.76 5.16 4.86 4.48 4.02 5.22 4.28 4.38 4.88 5.18 4.58 5.2  4.28 4.62\n",
            " 4.74 4.32 4.74 4.64 4.52 5.04 4.78 4.9  4.86 4.5  5.08 4.78 4.74 4.62\n",
            " 4.12 5.88 4.48 4.28 4.6  4.94 5.36 4.58 4.84 4.58 4.74 4.7  4.4  5.36\n",
            " 4.18 4.6  4.62 4.94 4.64 4.92 4.5  4.68 4.92 4.44 5.2  4.32 4.8  4.44\n",
            " 4.64 4.28 4.5  4.64 4.42 4.52 4.74 4.3  4.96 4.6  5.02 4.06 4.78 4.8\n",
            " 4.86 4.46 4.98 4.98 4.04 4.82 4.16 4.7  5.38 4.66 4.32 4.66 5.16 4.9\n",
            " 5.26 4.62 4.7  4.16 4.72 4.7  4.6  5.32 5.04 4.48 5.34 4.98 5.16 4.7\n",
            " 4.92 4.56 4.18 5.16 4.04 4.62 5.22 4.48 4.64 5.06 4.34 4.94 5.3  5.1\n",
            " 3.96 4.82 4.06 4.56 4.52 3.94 4.66 4.6  5.5  4.2  4.96 4.4  5.42 5.26\n",
            " 4.94 4.96 4.54 4.12 5.58 4.34 4.74 4.36 4.9  5.16 5.16 4.64 4.74 4.32\n",
            " 4.28 4.14 4.8  4.78 4.18 4.38 4.84 5.12 4.76 4.08 4.9  3.64 4.36 4.46\n",
            " 4.6  4.84 4.68 4.58 3.92 4.5  4.28 4.7  4.58 4.52 4.98 4.8  4.76 4.66\n",
            " 4.64 5.08 4.58 5.18 4.82 5.06 4.14 4.76 5.7  4.8  4.74 4.94 4.1  3.96\n",
            " 4.62 4.02 4.78 4.14 4.86 4.88 3.92 5.12 4.48 4.36 5.3  4.08 4.48 5.06\n",
            " 4.62 4.44 4.78 4.7  4.76 5.5  4.3  4.3  5.34 4.48 5.   4.76 4.22 4.34\n",
            " 4.4  4.64 4.68 4.84 5.06 4.76 5.18 4.3  4.12 4.06 3.98 4.56 4.76 4.68\n",
            " 5.12 5.2  4.36 3.98 4.4  5.14 4.54 4.66 4.68 4.66 4.38 4.64 5.02 5.18\n",
            " 4.14 4.22 4.92 4.84 4.7  4.3  5.32 4.4  4.3  4.   4.84 4.68 4.78 4.66\n",
            " 4.18 4.5  5.2  4.42 4.22 5.24 4.18 4.48 4.58 4.28 4.7  4.8  5.14 4.64\n",
            " 4.5  4.7  4.96 3.96 5.22 4.94 4.74 4.92 4.6  4.58 3.98 4.88 4.56 4.86\n",
            " 4.5  4.9  4.76 4.   4.52 4.18 4.8  4.06 4.68 4.56 4.3  4.06 4.1  4.4\n",
            " 4.6  4.42 5.24 4.36 3.96 4.78 4.48 5.46 4.68 4.22 4.76 4.48 4.54 5.14\n",
            " 4.1  4.86 4.96 4.32 5.   4.26 4.4  4.82 4.56 5.12 4.66 4.88 4.44 4.94\n",
            " 4.9  4.54 4.7  4.9  4.3  4.86 4.34 5.12 3.96 4.82 5.   4.54 5.22 4.44\n",
            " 4.36 4.46 4.4  5.02 3.8  4.6  4.3  4.64 4.68 4.78 4.34 4.54 5.02 4.98\n",
            " 5.2  4.4  4.3  4.94 4.36 4.42 4.34 4.48 4.24 4.76 5.02 4.2  4.8  4.3\n",
            " 4.66 3.84 3.86 4.94 4.3  4.22]\n"
          ],
          "name": "stdout"
        },
        {
          "output_type": "display_data",
          "data": {
            "image/png": "[encoded data removed]",
            "text/plain": [
              "<Figure size 432x288 with 1 Axes>"
            ]
          },
          "metadata": {
            "tags": [],
            "needs_background": "light"
          }
        }
      ]
    },
    {
      "cell_type": "markdown",
      "metadata": {
        "id": "vPC9HqQP4WQk",
        "colab_type": "text"
      },
      "source": [
        "### Задание 5"
      ]
    },
    {
      "cell_type": "markdown",
      "metadata": {
        "id": "SMM76pgX4WQk",
        "colab_type": "text"
      },
      "source": [
        "Найдите собственные значения и собственные вектора матрицы (на python и на бумаге)\n",
        "\n",
        "[[1, 4],\n",
        "\n",
        " [1, 1]]"
      ]
    },
    {
      "cell_type": "code",
      "metadata": {
        "id": "nUvt_B5u9Hrx",
        "colab_type": "code",
        "outputId": "a5b22682-de67-452b-bb9b-bff5e513be06",
        "colab": {
          "base_uri": "https://localhost:8080/",
          "height": 122
        }
      },
      "source": [
        "a = np.array([[1, 4],\n",
        "              [1, 1]])\n",
        "\n",
        "k, M = np.linalg.eig(a)\n",
        "print(f'собственные значения\\n {k},\\n\\nсобственные вектора \\n{M}')"
      ],
      "execution_count": 0,
      "outputs": [
        {
          "output_type": "stream",
          "text": [
            "собственные значения\n",
            " [ 3. -1.],\n",
            "\n",
            "собственные вектора \n",
            "[[ 0.89442719 -0.89442719]\n",
            " [ 0.4472136   0.4472136 ]]\n"
          ],
          "name": "stdout"
        }
      ]
    },
    {
      "cell_type": "markdown",
      "metadata": {
        "id": "dct4IfMyHvfl",
        "colab_type": "text"
      },
      "source": [
        "Tr=1+1=2\n",
        "\n",
        "det=1*1-4*1=-3\n",
        "\n",
        "h**2-2*h-3=(h-1)*(h+3)\n",
        "\n",
        "собственные значения (3,-1)\n",
        "\n",
        "А+1Е=[[2,4],\n",
        "      [1,2]]\n",
        "\n",
        "A-3E=[[-2,4],\n",
        "      [1,-2]]\n",
        "      \n",
        "собственные вектора\n",
        "[[2,-2],\n",
        " [1,1]]"
      ]
    }
  ]
}