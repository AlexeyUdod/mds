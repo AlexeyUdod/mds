{
  "nbformat": 4,
  "nbformat_minor": 0,
  "metadata": {
    "colab": {
      "name": "mds02.hw.ipynb",
      "provenance": [],
      "collapsed_sections": [],
      "authorship_tag": "ABX9TyObclORVJj/58rtba8Trrz+",
      "include_colab_link": true
    },
    "kernelspec": {
      "name": "python3",
      "display_name": "Python 3"
    }
  },
  "cells": [
    {
      "cell_type": "markdown",
      "metadata": {
        "id": "view-in-github",
        "colab_type": "text"
      },
      "source": [
        "<a href=\"https://colab.research.google.com/github/AlexeyUdod/mds/blob/master/mds02_hw.ipynb\" target=\"_parent\"><img src=\"https://colab.research.google.com/assets/colab-badge.svg\" alt=\"Open In Colab\"/></a>"
      ]
    },
    {
      "cell_type": "markdown",
      "metadata": {
        "id": "WZeHkM7vIrwF",
        "colab_type": "text"
      },
      "source": [
        "# Домашнее задание\n",
        "\n"
      ]
    },
    {
      "cell_type": "markdown",
      "metadata": {
        "id": "bh3CoJoZKANd",
        "colab_type": "text"
      },
      "source": [
        "Уровень 0:\n",
        "Создайте матрицу 3 на 3, заполненную числами от 1 до 9\n",
        "Прибавьте к ней матрицу с единицами на диагонале\n",
        "Умножьте полученную матрицу на вектор (1, 2, 3)\n",
        "Посчитайте обратную матрицу к полученной матрице"
      ]
    },
    {
      "cell_type": "code",
      "metadata": {
        "id": "enp5uBjKI0UJ",
        "colab_type": "code",
        "colab": {}
      },
      "source": [
        "import numpy as np\n",
        "import matplotlib.pyplot as plt\n",
        "from math import cos, sin, pi"
      ],
      "execution_count": 0,
      "outputs": []
    },
    {
      "cell_type": "code",
      "metadata": {
        "id": "yBi-5AYSKz6N",
        "colab_type": "code",
        "colab": {
          "base_uri": "https://localhost:8080/",
          "height": 298
        },
        "outputId": "ff11cdbb-f1b8-4004-d65e-b781ae207323"
      },
      "source": [
        "a = np.arange(9).reshape((3,3))\n",
        "print(a, '\\n')\n",
        "\n",
        "a = a + np.eye(3)\n",
        "print(a, '\\n')\n",
        "\n",
        "a = a * np.arange(1,4)\n",
        "print(a, '\\n')\n",
        "\n",
        "a = np.linalg.inv(a)\n",
        "print(a, '\\n')"
      ],
      "execution_count": 34,
      "outputs": [
        {
          "output_type": "stream",
          "text": [
            "[[0 1 2]\n",
            " [3 4 5]\n",
            " [6 7 8]] \n",
            "\n",
            "[[1. 1. 2.]\n",
            " [3. 5. 5.]\n",
            " [6. 7. 9.]] \n",
            "\n",
            "[[ 1.  2.  6.]\n",
            " [ 3. 10. 15.]\n",
            " [ 6. 14. 27.]] \n",
            "\n",
            "[[-2.         -1.          1.        ]\n",
            " [-0.3         0.3        -0.1       ]\n",
            " [ 0.6         0.06666667 -0.13333333]] \n",
            "\n"
          ],
          "name": "stdout"
        }
      ]
    },
    {
      "cell_type": "markdown",
      "metadata": {
        "id": "t27rZiTRJ5Nj",
        "colab_type": "text"
      },
      "source": [
        "Уровень 1:\n",
        "Дан объект в 2d пространстве:\n",
        "\n",
        "При помощи матричных операций выполните:\n",
        "Уменьшить объект в два раза.\n",
        "Повернуть на 130 градусов.\n",
        "Отразить объект относительно прямой y=x\n",
        "Выполнить смещение объекта и масштабирование (применить 2 матрицы трансформаций). Смещение на (200, 300) и масштабирование на (0.5, 1,2)"
      ]
    },
    {
      "cell_type": "code",
      "metadata": {
        "id": "unC4PyXwDKST",
        "colab_type": "code",
        "colab": {}
      },
      "source": [
        "A = [[-100, -100, 1],\n",
        "    [-100, 100, 1],\n",
        "    [100, 100, 1],\n",
        "    [0, 0, 1],\n",
        "    [100, -100, 1],\n",
        "    [-100, -100, 1]]"
      ],
      "execution_count": 0,
      "outputs": []
    },
    {
      "cell_type": "markdown",
      "metadata": {
        "id": "FWbkXv7VEmuI",
        "colab_type": "text"
      },
      "source": [
        "Уменьшить объект в два раза."
      ]
    },
    {
      "cell_type": "code",
      "metadata": {
        "id": "AoPVk99vEpk_",
        "colab_type": "code",
        "outputId": "a93238c3-4990-415b-beb4-b33511e2be6b",
        "colab": {
          "base_uri": "https://localhost:8080/",
          "height": 286
        }
      },
      "source": [
        "T = [[.5,0,0],\n",
        "     [0,.5,0],\n",
        "     [0,0,1]]\n",
        "\n",
        "A1 = np.array(A)\n",
        "T = np.array(T)\n",
        "A2 = A @ T\n",
        "\n",
        "plt.plot(A2[:,0], A2[:,1], c='red')\n",
        "plt.plot(A1[:,0], A1[:,1], c='green')\n",
        "plt.legend(['tranformed', 'original'])\n",
        "\n",
        "plt.ylim([-200, 200])\n",
        "plt.xlim([-200, 200])"
      ],
      "execution_count": 0,
      "outputs": [
        {
          "output_type": "execute_result",
          "data": {
            "text/plain": [
              "(-200.0, 200.0)"
            ]
          },
          "metadata": {
            "tags": []
          },
          "execution_count": 94
        },
        {
          "output_type": "display_data",
          "data": {
            "image/png": "[encoded data removed]",
            "text/plain": [
              "<Figure size 432x288 with 1 Axes>"
            ]
          },
          "metadata": {
            "tags": [],
            "needs_background": "light"
          }
        }
      ]
    },
    {
      "cell_type": "markdown",
      "metadata": {
        "id": "8IqwJAaDEhfk",
        "colab_type": "text"
      },
      "source": [
        "Повернуть на 130 градусов."
      ]
    },
    {
      "cell_type": "code",
      "metadata": {
        "id": "6FYVVgkjEkXs",
        "colab_type": "code",
        "outputId": "453578d1-8122-4e73-c7ff-532775beaabd",
        "colab": {
          "base_uri": "https://localhost:8080/",
          "height": 286
        }
      },
      "source": [
        "angel = 0.01\n",
        "angel_rad = angel * 180/pi\n",
        "T =[[cos(angel_rad), sin(angel_rad), 0],\n",
        "    [-sin(angel_rad), cos(angel_rad), 0],\n",
        "    [0, 0, 1]]\n",
        "\n",
        "A1 = np.array(A)\n",
        "T = np.array(T)\n",
        "A2 = A @ T\n",
        "\n",
        "plt.plot(A2[:,0], A2[:,1], c='red')\n",
        "plt.plot(A1[:,0], A1[:,1], c='green')\n",
        "plt.legend(['tranformed', 'original'])\n",
        "\n",
        "plt.ylim([-200, 200])\n",
        "plt.xlim([-200, 200])"
      ],
      "execution_count": 40,
      "outputs": [
        {
          "output_type": "execute_result",
          "data": {
            "text/plain": [
              "(-200.0, 200.0)"
            ]
          },
          "metadata": {
            "tags": []
          },
          "execution_count": 40
        },
        {
          "output_type": "display_data",
          "data": {
            "image/png": "[encoded data removed]",
            "text/plain": [
              "<Figure size 432x288 with 1 Axes>"
            ]
          },
          "metadata": {
            "tags": [],
            "needs_background": "light"
          }
        }
      ]
    },
    {
      "cell_type": "markdown",
      "metadata": {
        "id": "yqh6o8z3Ek1q",
        "colab_type": "text"
      },
      "source": [
        "Отразить объект относительно прямой y=x"
      ]
    },
    {
      "cell_type": "code",
      "metadata": {
        "id": "ox3_9-6BExFW",
        "colab_type": "code",
        "outputId": "458ac4fe-85dd-42bb-e120-027880e48c94",
        "colab": {
          "base_uri": "https://localhost:8080/",
          "height": 282
        }
      },
      "source": [
        "T = [[0,1,0],\n",
        "     [1,0,0],\n",
        "     [0,0,1]]\n",
        "\n",
        "A1 = np.array(A)\n",
        "T = np.array(T)\n",
        "A2 = A @ T\n",
        "\n",
        "\n",
        "\n",
        "plt.plot(A2[:,0], A2[:,1], c='red')\n",
        "plt.plot(A1[:,0], A1[:,1], c='green')\n",
        "plt.legend(['tranformed', 'original'])"
      ],
      "execution_count": 41,
      "outputs": [
        {
          "output_type": "execute_result",
          "data": {
            "text/plain": [
              "<matplotlib.legend.Legend at 0x7f6e80242390>"
            ]
          },
          "metadata": {
            "tags": []
          },
          "execution_count": 41
        },
        {
          "output_type": "display_data",
          "data": {
            "image/png": "[encoded data removed]",
            "text/plain": [
              "<Figure size 432x288 with 1 Axes>"
            ]
          },
          "metadata": {
            "tags": [],
            "needs_background": "light"
          }
        }
      ]
    },
    {
      "cell_type": "markdown",
      "metadata": {
        "id": "CUbiGMEa-4Kn",
        "colab_type": "text"
      },
      "source": [
        "Выполнить смещение объекта и масштабирование (применить 2 матрицы трансформаций). Смещение на (200, 300) и масштабирование на (0.5, 1,2)"
      ]
    },
    {
      "cell_type": "code",
      "metadata": {
        "id": "kSMVqccflt4r",
        "colab_type": "code",
        "outputId": "4429b641-f3c5-4a63-ba93-6814ead93a61",
        "colab": {
          "base_uri": "https://localhost:8080/",
          "height": 282
        }
      },
      "source": [
        "T1 = [[.5,0,0],\n",
        "     [0,1.2,0],\n",
        "     [0,0,1]]\n",
        "\n",
        "T2 = [[1,0,0],\n",
        "     [0,1,0],\n",
        "     [200,300,1]]\n",
        "\n",
        "A1 = np.array(A)\n",
        "T1 = np.array(T1)\n",
        "T2 = np.array(T2)\n",
        "\n",
        "A2 = A @ T1 @ T2   \n",
        "\n",
        "plt.plot(A2[:,0], A2[:,1], c='red')\n",
        "plt.plot(A1[:,0], A1[:,1], c='green')\n",
        "plt.legend(['tranformed', 'original'])\n"
      ],
      "execution_count": 0,
      "outputs": [
        {
          "output_type": "execute_result",
          "data": {
            "text/plain": [
              "<matplotlib.legend.Legend at 0x7f47afa11a20>"
            ]
          },
          "metadata": {
            "tags": []
          },
          "execution_count": 117
        },
        {
          "output_type": "display_data",
          "data": {
            "image/png": "[encoded data removed]",
            "text/plain": [
              "<Figure size 432x288 with 1 Axes>"
            ]
          },
          "metadata": {
            "tags": [],
            "needs_background": "light"
          }
        }
      ]
    },
    {
      "cell_type": "markdown",
      "metadata": {
        "id": "8syeQrQbUumJ",
        "colab_type": "text"
      },
      "source": [
        "Даны дома из Бостона\n",
        "Выбрать любые n домов, образующих базис в пространстве признаков дома (все колонки, кроме medv)\n",
        "Написать код разложения дома по указанному базису"
      ]
    },
    {
      "cell_type": "code",
      "metadata": {
        "id": "IdIxQ6YCU5_9",
        "colab_type": "code",
        "colab": {
          "base_uri": "https://localhost:8080/",
          "height": 34
        },
        "outputId": "436e45b0-3f9f-47d8-92e1-1cf20335daca"
      },
      "source": [
        "from sklearn.datasets import load_boston\n",
        "boston = load_boston()\n",
        "print(boston.data.shape)  "
      ],
      "execution_count": 42,
      "outputs": [
        {
          "output_type": "stream",
          "text": [
            "(506, 13)\n"
          ],
          "name": "stdout"
        }
      ]
    },
    {
      "cell_type": "code",
      "metadata": {
        "id": "4a0pH_TscXZ4",
        "colab_type": "code",
        "outputId": "f917da7b-02c1-4d31-e2bb-c3851755c20d",
        "colab": {
          "base_uri": "https://localhost:8080/",
          "height": 294
        }
      },
      "source": [
        "dets = []\n",
        "ns = []\n",
        "xs = []\n",
        "for i in range(boston.data.shape[0] - boston.data.shape[1]):\n",
        "  \n",
        "  x1 = boston.data[i:i+boston.data.shape[1]]\n",
        "  det = np.linalg.det(x1)\n",
        "  ns.append(i)\n",
        "  dets.append(det)\n",
        "  \n",
        "  if det > 0:\n",
        "    xs.append(x1)\n",
        "#     print('basis ', i)\n",
        "#     print('det ', round(det, 2), '\\n')\n",
        "plt.scatter(ns,dets, marker='.')\n",
        "print('bases total', len(xs))"
      ],
      "execution_count": 104,
      "outputs": [
        {
          "output_type": "stream",
          "text": [
            "bases total 17\n"
          ],
          "name": "stdout"
        },
        {
          "output_type": "display_data",
          "data": {
            "image/png": "[encoded data removed]",
            "text/plain": [
              "<Figure size 432x288 with 1 Axes>"
            ]
          },
          "metadata": {
            "tags": [],
            "needs_background": "light"
          }
        }
      ]
    },
    {
      "cell_type": "code",
      "metadata": {
        "id": "AaeqJKXefk6E",
        "colab_type": "code",
        "colab": {
          "base_uri": "https://localhost:8080/",
          "height": 87
        },
        "outputId": "0d0efd93-bb28-49cf-84c3-442367054710"
      },
      "source": [
        "# разложения дома №45 по найденному базису №3\n",
        "np.linalg.solve(xs[3], boston.data[45])"
      ],
      "execution_count": 97,
      "outputs": [
        {
          "output_type": "execute_result",
          "data": {
            "text/plain": [
              "array([-1.17509353e+03,  3.34028374e+13, -1.55440947e+16, -3.85376607e+02,\n",
              "        4.24303073e+18, -8.68135461e+01,  1.07764172e+01, -8.24837412e+02,\n",
              "       -2.45419090e+17, -2.26484296e+15, -1.61931294e+16, -6.99648319e+00,\n",
              "       -2.81957385e+01])"
            ]
          },
          "metadata": {
            "tags": []
          },
          "execution_count": 97
        }
      ]
    }
  ]
}