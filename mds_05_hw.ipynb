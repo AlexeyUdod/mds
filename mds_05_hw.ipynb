{
  "nbformat": 4,
  "nbformat_minor": 0,
  "metadata": {
    "kernelspec": {
      "display_name": "Python 3",
      "language": "python",
      "name": "python3"
    },
    "language_info": {
      "codemirror_mode": {
        "name": "ipython",
        "version": 3
      },
      "file_extension": ".py",
      "mimetype": "text/x-python",
      "name": "python",
      "nbconvert_exporter": "python",
      "pygments_lexer": "ipython3",
      "version": "3.7.5"
    },
    "colab": {
      "name": "mds_05_hw.ipynb",
      "provenance": [],
      "collapsed_sections": [],
      "include_colab_link": true
    }
  },
  "cells": [
    {
      "cell_type": "markdown",
      "metadata": {
        "id": "view-in-github",
        "colab_type": "text"
      },
      "source": [
        "<a href=\"https://colab.research.google.com/github/AlexeyUdod/mds/blob/master/mds_05_hw.ipynb\" target=\"_parent\"><img src=\"https://colab.research.google.com/assets/colab-badge.svg\" alt=\"Open In Colab\"/></a>"
      ]
    },
    {
      "cell_type": "code",
      "metadata": {
        "id": "xwDIkkqYJy1L",
        "colab_type": "code",
        "colab": {}
      },
      "source": [
        "import numpy as np\n",
        "from scipy.optimize import approx_fprime, minimize"
      ],
      "execution_count": 0,
      "outputs": []
    },
    {
      "cell_type": "markdown",
      "metadata": {
        "id": "u6CTBKMcJy1Y",
        "colab_type": "text"
      },
      "source": [
        "### Задание 2:\n",
        "\n",
        "Градиентный спуск своими руками"
      ]
    },
    {
      "cell_type": "code",
      "metadata": {
        "id": "fGP6eyp-Jy1Z",
        "colab_type": "code",
        "colab": {}
      },
      "source": [
        "def f(x):\n",
        "    return (x[0]**2) + (x[1]**2) "
      ],
      "execution_count": 0,
      "outputs": []
    },
    {
      "cell_type": "code",
      "metadata": {
        "id": "nLBLn7-tJy1m",
        "colab_type": "code",
        "colab": {}
      },
      "source": [
        "x0 = np.array([100, 200])\n",
        "learning_rate = 0.1\n",
        "x=x0\n",
        "for i in range(100):\n",
        "    # Calculate gradient\n",
        "    eps = np.sqrt(np.finfo(float).eps)\n",
        "    grad =  approx_fprime(x, f, eps)# Your code here (функция для вычисления градиента есть в лекционном ноутбуке)\n",
        "    # Update x with gradient\n",
        "    dx = learning_rate * grad\n",
        "    x = x - dx# Your code here (смотри слайд презентации про градиентный спуск)\n",
        "    # print(f'{grad} grad\\n{dx} dx\\n{x} new x\\n')"
      ],
      "execution_count": 0,
      "outputs": []
    },
    {
      "cell_type": "code",
      "metadata": {
        "id": "NI5QK2LIJy1t",
        "colab_type": "code",
        "colab": {
          "base_uri": "https://localhost:8080/",
          "height": 52
        },
        "outputId": "4b3df1f9-0caa-4c15-8e5e-7cef73b8ca1b"
      },
      "source": [
        "print(\"Минимум достигается в: \", x)\n",
        "print(\"Значение функции в минимуме: \", f(x))"
      ],
      "execution_count": 28,
      "outputs": [
        {
          "output_type": "stream",
          "text": [
            "Минимум достигается в:  [1.29197811e-08 3.32901401e-08]\n",
            "Значение функции в минимуме:  1.2751541739575636e-15\n"
          ],
          "name": "stdout"
        }
      ]
    },
    {
      "cell_type": "markdown",
      "metadata": {
        "id": "WQOCpEatJy1z",
        "colab_type": "text"
      },
      "source": [
        "Проверка с помощью встроенной функции numpy: "
      ]
    },
    {
      "cell_type": "code",
      "metadata": {
        "id": "xECjGcXfJy10",
        "colab_type": "code",
        "colab": {
          "base_uri": "https://localhost:8080/",
          "height": 263
        },
        "outputId": "f3d27a7a-a5b8-4ef4-c39d-5dcd195a3cd0"
      },
      "source": [
        "minimize(f, x0, method='nelder-mead', options={'xtol': 1e-8, 'disp': True})"
      ],
      "execution_count": 30,
      "outputs": [
        {
          "output_type": "stream",
          "text": [
            "Optimization terminated successfully.\n",
            "         Current function value: 0.000000\n",
            "         Iterations: 85\n",
            "         Function evaluations: 164\n"
          ],
          "name": "stdout"
        },
        {
          "output_type": "execute_result",
          "data": {
            "text/plain": [
              " final_simplex: (array([[ 3.31391559e-09, -1.82888492e-09],\n",
              "       [-3.91522747e-09, -3.79451217e-09],\n",
              "       [-4.97134432e-09,  7.91645290e-09]]), array([1.43268566e-17, 2.97273287e-17, 8.73844908e-17]))\n",
              "           fun: 1.4326856592347756e-17\n",
              "       message: 'Optimization terminated successfully.'\n",
              "          nfev: 164\n",
              "           nit: 85\n",
              "        status: 0\n",
              "       success: True\n",
              "             x: array([ 3.31391559e-09, -1.82888492e-09])"
            ]
          },
          "metadata": {
            "tags": []
          },
          "execution_count": 30
        }
      ]
    }
  ]
}