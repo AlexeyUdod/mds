{
  "nbformat": 4,
  "nbformat_minor": 0,
  "metadata": {
    "colab": {
      "name": "mds_07_hw.ipynb",
      "provenance": [],
      "authorship_tag": "ABX9TyNUoWyk6xOhH/YZRplPQyOj",
      "include_colab_link": true
    },
    "kernelspec": {
      "name": "python3",
      "display_name": "Python 3"
    }
  },
  "cells": [
    {
      "cell_type": "markdown",
      "metadata": {
        "id": "view-in-github",
        "colab_type": "text"
      },
      "source": [
        "<a href=\"https://colab.research.google.com/github/AlexeyUdod/mds/blob/master/mds_07_hw.ipynb\" target=\"_parent\"><img src=\"https://colab.research.google.com/assets/colab-badge.svg\" alt=\"Open In Colab\"/></a>"
      ]
    },
    {
      "cell_type": "code",
      "metadata": {
        "id": "qq23BtikQWG2",
        "colab_type": "code",
        "colab": {}
      },
      "source": [
        "import numpy as np\n",
        "import pandas as pd"
      ],
      "execution_count": 0,
      "outputs": []
    },
    {
      "cell_type": "markdown",
      "metadata": {
        "id": "ioJr1Q8sQXvB",
        "colab_type": "text"
      },
      "source": [
        "Задание 3\n",
        "\n",
        "Задача про 3 монеты\n",
        "Пусть брошены 3 уравновешенные монеты.\n",
        "Рассмотрим 3 события:\n",
        "A1 - монеты 1 и 2 упали одной и той же стороной,\n",
        "A2 - монеты 2 и 3 упали одной и той же стороной,\n",
        "A3 - монеты 1 и 3 упали одной и той же стороной.\n",
        "Покажите, почему эти 3 события (A1, A2, A3) являются попарно независимыми, но не являются независимыми в совокупности.\n"
      ]
    },
    {
      "cell_type": "code",
      "metadata": {
        "id": "70kJHBZWQb4t",
        "colab_type": "code",
        "colab": {
          "base_uri": "https://localhost:8080/",
          "height": 87
        },
        "outputId": "80687db1-cf17-4d73-ff52-3bd9914969d8"
      },
      "source": [
        "# A and B is independent if P(A&B)=P(A)*P(B)\n",
        "\n",
        "data = pd.DataFrame(columns=list('abc'))\n",
        "for i in range(8):\n",
        "  d = pd.DataFrame([list(bin(i + 8)[3:])],columns=list('abc'))\n",
        "  data = data.append(d, ignore_index=True)\n",
        "\n",
        "A1 = data.a == data.b\n",
        "A2 = data.a == data.c\n",
        "A3 = data.b == data.c\n",
        "\n",
        "A12_ind = data[A1 & A2].shape[0] / data.shape[0] == data[A1].shape[0]*data[A2].shape[0]/data.shape[0]**2\n",
        "A13_ind = data[A1 & A3].shape[0] / data.shape[0] == data[A1].shape[0]*data[A3].shape[0]/data.shape[0]**2\n",
        "A23_ind = data[A2 & A3].shape[0] / data.shape[0] == data[A2].shape[0]*data[A3].shape[0]/data.shape[0]**2\n",
        "A123_ind = data[A1 & A2 & A3].shape[0] / data.shape[0] == data[A1].shape[0]*data[A2].shape[0]*data[A3].shape[0]/data.shape[0]**3\n",
        "\n",
        "print(f'A1 and A2 is independent {A12_ind}\\nA1 and A3 is independent {A13_ind}\\nA2 and A3 is independent {A23_ind}\\nA1 and A2 and A3 is independent {A123_ind}')"
      ],
      "execution_count": 41,
      "outputs": [
        {
          "output_type": "stream",
          "text": [
            "A1 and A2 is independent True\n",
            "A1 and A3 is independent True\n",
            "A2 and A3 is independent True\n",
            "A1 and A2 and A3 is independent False\n"
          ],
          "name": "stdout"
        }
      ]
    },
    {
      "cell_type": "markdown",
      "metadata": {
        "id": "xVnE_USXQcPx",
        "colab_type": "text"
      },
      "source": [
        "Задание 4 (формула полной вероятности)\n",
        "В магазин привезли устройства с 3-х разных предприятий. Соотношение устройств следующее: 20% - продукция первого предприятия, 30% - продукция второго предприятия, 50% - продукция третьего предприятия; далее, 10% продукции первого предприятия высшего сорта, на втором предприятии - 5% и на третьем - 20% продукции высшего сорта. Найти вероятность того, что случайно купленная новая продукция окажется высшего сорта."
      ]
    },
    {
      "cell_type": "code",
      "metadata": {
        "id": "S1YfiCkoUcyI",
        "colab_type": "code",
        "colab": {
          "base_uri": "https://localhost:8080/",
          "height": 34
        },
        "outputId": "de9b1730-ea5d-4968-8178-744a307cb198"
      },
      "source": [
        "Factory = [.2, .3, .5]\n",
        "Quality = [.1, .05, .2]\n",
        "Total_Quality = np.array(Factory) @ np.array(Quality)\n",
        "print(f'Вероятность что продукция высшего сорта {Total_Quality * 100}%')"
      ],
      "execution_count": 6,
      "outputs": [
        {
          "output_type": "stream",
          "text": [
            "Вероятность что продукция высшего сорта 13.5%\n"
          ],
          "name": "stdout"
        }
      ]
    }
  ]
}